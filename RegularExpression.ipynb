{
 "cells": [
  {
   "cell_type": "markdown",
   "id": "dc194b04",
   "metadata": {},
   "source": [
    "# <a id =1> </a> <font color='blue'>Regular Expressions (Regex)</font>\n",
    "-------\n",
    "-------"
   ]
  },
  {
   "cell_type": "code",
   "execution_count": 1,
   "id": "74121e3c",
   "metadata": {},
   "outputs": [],
   "source": [
    "import re"
   ]
  },
  {
   "cell_type": "markdown",
   "id": "5bfb6c4d",
   "metadata": {},
   "source": [
    "\n",
    "*Regular Expression*, or regex or regexp in short, is extremely and amazingly powerful in searching and manipulating text strings, particularly in processing text files. One line of regex can easily replace several dozen lines of programming codes.\n",
    "\n",
    "Regex is supported in all the scripting languages (such as Perl, Python, PHP, and JavaScript); as well as general purpose programming languages such as Java; and even word processors such as Word for searching texts. Getting started with regex may not be easy due to its geeky syntax, but it is certainly worth the investment of your time.\n",
    "\n",
    "## <font color='green'>1.  Regex By Examples</font>\n",
    "-------\n",
    "This section is meant for those who need to refresh their memory. For novices, go to the next section to learn the syntax, before looking at these examples.\n",
    "\n",
    "### <font color='green'>1.1  Regex Syntax Summary</font>\n",
    "-------\n",
    "- **Character:** All characters, except those having special meaning in regex, matches themselves. E.g., the regex x matches substring \"x\"; regex 9 matches \"9\"; regex = matches \"=\"; and regex @ matches \"@\".\n",
    "- **Special Regex Characters:** These characters have special meaning in regex (to be discussed below): ., +, *, ?, ^, \\$, (, ), [, ], {, }, |, \\\\.\n",
    "- **Escape Sequences (\\\\char):** \n",
    "    - To match a character having special meaning in regex, you need to use a escape sequence prefix with a backslash (\\\\). E.g., \\\\. matches \".\"; regex \\\\+ matches \"+\"; and regex \\\\( matches \"(\".\n",
    "    - You also need to use regex \\\\\\\\ to match \"\\\\\" (back-slash).\n",
    "    - Regex recognizes common escape sequences such as \\\\n for newline, \\\\t for tab, \\\\r for carriage-return, \\\\nnn for a up to 3-digit octal number, \\\\xhh for a two-digit hex code, \\\\uhhhh for a 4-digit Unicode, \\\\uhhhhhhhh for a 8-digit Unicode.\n",
    "- **A Sequence of Characters (or String):** Strings can be matched via combining a sequence of characters (called sub-expressions). E.g., the regex Saturday matches \"Saturday\". The matching, by default, is case-sensitive, but can be set to case-insensitive via modifier.\n",
    "- **OR Operator (|):** E.g., the regex four|4 accepts strings \"four\" or \"4\".\n",
    "- **Character class (or Bracket List):**\n",
    "    - [...]: Accept ANY ONE of the character within the square bracket, e.g., [aeiou] matches \"a\", \"e\", \"i\", \"o\" or \"u\".\n",
    "    - [.-.] (Range Expression): Accept ANY ONE of the character in the range, e.g., [0-9] matches any digit; [A-Za-z] matches any uppercase or lowercase letters.\n",
    "    - [^...]: NOT ONE of the character, e.g., [^0-9] matches any non-digit.\n",
    "    - Only these four characters require escape sequence inside the bracket list: ^, -, ], \\\\.\n",
    "- **Occurrence Indicators (or Repetition Operators):**\n",
    "    - +: one or more (1+), e.g., [0-9]+ matches one or more digits such as '123', '000'.\n",
    "    - *: zero or more (0+), e.g., [0-9]* matches zero or more digits. It accepts all those in [0-9]+ plus the empty string.\n",
    "    - ?: zero or one (optional), e.g., [+-]? matches an optional \"+\", \"-\", or an empty string.\n",
    "    - {m,n}: m to n (both inclusive)\n",
    "    - {m}: exactly m times\n",
    "    - {m,}: m or more (m+)\n",
    "- **Meta-characters:** matches a character\n",
    "    - . (dot): ANY ONE character except newline. Same as [^\\n]\n",
    "    - \\\\d, \\\\D: ANY ONE digit/non-digit character. Digits are [0-9]\n",
    "    - \\\\w, \\\\W: ANY ONE word/non-word character. For ASCII, word characters are [a-zA-Z0-9_]\n",
    "    - \\\\s, \\\\S: ANY ONE space/non-space character. For ASCII, whitespace characters are [ \\\\n\\\\r\\\\t\\\\f]\n",
    "- **Position Anchors:** does not match character, but position such as start-of-line, end-of-line, start-of-word and end-of-word.\n",
    "    - ^, \\$: start-of-line and end-of-line respectively. E.g., ^[0-9]\\\\$ matches a numeric string.\n",
    "    - \\\\b: boundary of word, i.e., start-of-word or end-of-word. E.g., \\\\bcat\\\\b matches the word \"cat\" in the input string.\n",
    "    - \\\\B: Inverse of \\\\b, i.e., non-start-of-word or non-end-of-word.\n",
    "    - \\\\<, \\\\>: start-of-word and end-of-word respectively, similar to \\\\b. E.g., \\\\<cat\\\\> matches the word \"cat\" in the input string.\n",
    "    - \\\\A, \\\\Z: start-of-input and end-of-input respectively.\n",
    "- **Parenthesized Back References:**\n",
    "    - Use parentheses ( ) to create a back reference.\n",
    "    - Use \\$1, \\\\$2, ... (Java, Perl, JavaScript) or \\\\1, \\\\2, ... (Python) to retreive the back references in sequential order.\n",
    "- **Laziness (Curb Greediness for Repetition Operators):** *?, +?, ??, {m,n}?, {m,}?\n",
    "\n",
    "### <font color='green'>1.2  Example: Numbers</font> <font color='red'>[0-9]+</font> <font color='green'>or</font> <font color='red'>\\\\d+</font>\n",
    "---\n",
    "1. A regex (regular expression) consists of a sequence of sub-expressions. In this example, [0-9] and +.\n",
    "2. The [...], known as character class (or bracket list), encloses a list of characters. It matches any SINGLE character in the list. In this example, [0-9] matches any SINGLE character between 0 and 9 (i.e., a digit), where dash (-) denotes the range.\n",
    "3. The +, known as occurrence indicator (or repetition operator), indicates one or more occurrences (1+) of the previous sub-expression. In this case, [0-9]+ matches one or more digits.\n",
    "4. A regex may match a portion of the input (i.e., substring) or the entire input. In fact, it could match zero or more substrings of the input (with global modifier).\n",
    "5. This regex matches any numeric substring (of digits 0 to 9) of the input. For examples,\n",
    "    1. If the input is \"abc123xyz\", it matches substring \"123\".\n",
    "    2. If the input is \"abcxyz\", it matches nothing.\n",
    "    3. If the input is \"abc00123xyz456_0\", it matches substrings \"00123\", \"456\" and \"0\" (three matches).\n",
    "<br>\n",
    "Take note that this regex matches number with leading zeros, such as \"000\", \"0123\" and \"0001\", which may not be desirable.\n",
    "6. You can also write \\\\d+, where \\\\d is known as a meta-character that matches any digit (same as [0-9]). There are more than one ways to write a regex! Take note that many programming languages (C, Java, JavaScript, Python) use backslash \\\\ as the prefix for escape sequences (e.g., \\\\n for newline), and you need to write \"\\\\\\\\d+\" instead."
   ]
  },
  {
   "cell_type": "code",
   "execution_count": 2,
   "id": "6fafdf14",
   "metadata": {},
   "outputs": [
    {
     "name": "stdout",
     "output_type": "stream",
     "text": [
      "Numbers in 098765fdg2345: ['098765', '2345']\n",
      "Numbers in dfghjklkj: []\n",
      "Numbers in abc00123xyz456_0: ['00123', '456', '0']\n"
     ]
    }
   ],
   "source": [
    "def find_number(string):\n",
    "    '''Try find: re.findall(regexStr, inStr) -> matchedSubstringsList\n",
    "       r'...' denotes raw strings which ignore escape code, i.e., r'\\n' is '\\'+'n' '''\n",
    "    return re.findall(r'[0-9]+', string)\n",
    "\n",
    "string1 = '098765fdg2345'\n",
    "string2 = 'dfghjklkj'\n",
    "string3 = 'abc00123xyz456_0'\n",
    "print(f'Numbers in {string1}: {find_number(string1)}')\n",
    "print(f'Numbers in {string2}: {find_number(string2)}')\n",
    "print(f'Numbers in {string3}: {find_number(string3)}')"
   ]
  },
  {
   "cell_type": "code",
   "execution_count": 3,
   "id": "97de80c2",
   "metadata": {},
   "outputs": [
    {
     "name": "stdout",
     "output_type": "stream",
     "text": [
      "Numbers subtituted by * in 098765fdg2345: *fdg*\n",
      "Numbers subtituted by * in dfghjklkj: dfghjklkj\n",
      "Numbers subtituted by * in abc00123xyz456_0: abc*xyz*_*\n"
     ]
    }
   ],
   "source": [
    "def subtitute(string):\n",
    "    '''Try substitute: re.sub(regexStr, replacementStr, inStr) -> outStr'''\n",
    "    return re.sub(r'[0-9]+', r'*', string)\n",
    "\n",
    "string1 = '098765fdg2345'\n",
    "string2 = 'dfghjklkj'\n",
    "string3 = 'abc00123xyz456_0'\n",
    "print(f'Numbers subtituted by * in {string1}: {subtitute(string1)}')\n",
    "print(f'Numbers subtituted by * in {string2}: {subtitute(string2)}')\n",
    "print(f'Numbers subtituted by * in {string3}: {subtitute(string3)}')"
   ]
  },
  {
   "cell_type": "markdown",
   "id": "51f46fc6",
   "metadata": {},
   "source": [
    "### <font color='green'>1.3  Example: Full Numeric Strings</font> <font color='red'>^[0-9]+\\$</font> <font color='green'>or</font> <font color='red'>^\\\\d+\\$</font>\n",
    "---\n",
    "1. The leading ^ and the trailing \\$ are known as position anchors, which match the start and end positions of the line, respectively. As the result, the entire input string shall be matched fully, instead of a portion of the input string (substring).\n",
    "2. This regex matches any non-empty numeric strings (comprising of digits 0 to 9), e.g., \"0\" and \"12345\". It does not match with \"\" (empty string), \"abc\", \"a123\", \"abc123xyz\", etc. However, it also matches \"000\", \"0123\" and \"0001\" with leading zeros."
   ]
  },
  {
   "cell_type": "code",
   "execution_count": 4,
   "id": "c4c37554",
   "metadata": {},
   "outputs": [
    {
     "name": "stdout",
     "output_type": "stream",
     "text": [
      "Full Numbers in 0987652345: ['0987652345']\n",
      "Full Numbers in dfghjklkj: []\n",
      "Full Numbers in abc00123xyz456_0: []\n"
     ]
    }
   ],
   "source": [
    "def find_full_number(string):\n",
    "    return re.findall(r'^[0-9]+$', string)\n",
    "\n",
    "string1 = '0987652345'\n",
    "string2 = 'dfghjklkj'\n",
    "string3 = 'abc00123xyz456_0'\n",
    "print(f'Full Numbers in {string1}: {find_full_number(string1)}')\n",
    "print(f'Full Numbers in {string2}: {find_full_number(string2)}')\n",
    "print(f'Full Numbers in {string3}: {find_full_number(string3)}')"
   ]
  },
  {
   "cell_type": "markdown",
   "id": "3aead1d8",
   "metadata": {},
   "source": [
    "### <font color='green'>1.4  Example: Positive Integer Literals</font> <font color='red'>[1-9][0-9]\\*|0</font> <font color='green'>or</font> <font color='red'>[1-9]\\d\\*|0</font>\n",
    "---\n",
    "1. [1-9] matches any character between 1 to 9; [0-9]\\* matches zero or more digits. The \\* is an occurrence indicator representing zero or more occurrences. Together, [1-9][0-9]\\* matches any numbers without a leading zero.\n",
    "2. | represents the OR operator; which is used to include the number 0.\n",
    "3. This expression matches \"0\" and \"123\"; but does not match \"000\" and \"0123\" (but see below).\n",
    "4. You can replace [0-9] by meta-character \\d, but not [1-9].\n",
    "5. We did not use position anchors ^ and \\$ in this regex. Hence, it can match any parts of the input string. For examples,\n",
    "    1. If the input string is \"abc123xyz\", it matches the substring \"123\".\n",
    "    2. If the input string is \"abcxyz\", it matches nothing.\n",
    "    3. If the input string is \"abc123xyz456_0\", it matches substrings \"123\", \"456\" and \"0\" (three matches).\n",
    "    4. If the input string is \"0012300\", it matches substrings: \"0\", \"0\" and \"12300\" (three matches)!!!"
   ]
  },
  {
   "cell_type": "code",
   "execution_count": 5,
   "id": "d668d4dc",
   "metadata": {},
   "outputs": [
    {
     "name": "stdout",
     "output_type": "stream",
     "text": [
      "positive integer or 0 in 0987652345: ['0', '987652345']\n",
      "positive integer or 0 in dfg456klkj: ['456']\n",
      "positive integer or 0 in -87652345: ['87652345']\n"
     ]
    }
   ],
   "source": [
    "def find_positive_int_or_0(string):\n",
    "    return re.findall(r'[1-9]\\d*|0', string)\n",
    "\n",
    "string1 = '0987652345'\n",
    "string2 = 'dfg456klkj'\n",
    "string3 = '-87652345'\n",
    "print(f'positive integer or 0 in {string1}: {find_positive_int_or_0(string1)}')\n",
    "print(f'positive integer or 0 in {string2}: {find_positive_int_or_0(string2)}')\n",
    "print(f'positive integer or 0 in {string3}: {find_positive_int_or_0(string3)}')"
   ]
  },
  {
   "cell_type": "markdown",
   "id": "7af3c08b",
   "metadata": {},
   "source": [
    "### <font color='green'>1.5  Example: Full Integer Literals</font> <font color='red'>^[+-]?[1-9][0-9]\\*|0\\$</font> <font color='green'>or</font> <font color='red'>^[+-]?[1-9]\\\\d\\*|0\\\\$</font>\n",
    "---\n",
    "1. This regex match an Integer literal (for entire string with the position anchors), both positive, negative and zero.\n",
    "2. [+-] matches either + or - sign. ? is an occurrence indicator denoting 0 or 1 occurrence, i.e. optional. Hence, [+-]? matches an optional leading + or - sign.\n",
    "3. We have covered three occurrence indicators: + for one or more, * for zero or more, and ? for zero or one."
   ]
  },
  {
   "cell_type": "code",
   "execution_count": 6,
   "id": "8ee6b4c7",
   "metadata": {},
   "outputs": [
    {
     "name": "stdout",
     "output_type": "stream",
     "text": [
      "Full integer in 0987652345: []\n",
      "Full integer in dfg456klkj: []\n",
      "Full integer in -87652345: ['-87652345']\n"
     ]
    }
   ],
   "source": [
    "def find_int(string):\n",
    "    return re.findall(r'^[+-]?[1-9]\\d*|0$', string)\n",
    "\n",
    "string1 = '0987652345'\n",
    "string2 = 'dfg456klkj'\n",
    "string3 = '-87652345'\n",
    "print(f'Full integer in {string1}: {find_int(string1)}')\n",
    "print(f'Full integer in {string2}: {find_int(string2)}')\n",
    "print(f'Full integer in {string3}: {find_int(string3)}')"
   ]
  },
  {
   "cell_type": "markdown",
   "id": "488daf76",
   "metadata": {},
   "source": [
    "### <font color='green'>1.6  Example: Identifiers (or Names)</font> <font color='red'>[a-zA-Z_][0-9a-zA-Z_]\\*</font> <font color='green'>or </font><font color='red'>[a-zA-Z_]\\\\w\\*</font>\n",
    "---\n",
    "1. Begin with one letters or underscore, followed by zero or more digits, letters and underscore.\n",
    "2. You can use meta-character \\\\w for a word character [a-zA-Z0-9_]. Recall that meta-character \\\\d can be used for a digit [0-9]."
   ]
  },
  {
   "cell_type": "code",
   "execution_count": 7,
   "id": "fe7c2b66",
   "metadata": {},
   "outputs": [
    {
     "name": "stdout",
     "output_type": "stream",
     "text": [
      "Identifiers in 098765ghf2345: ['ghf2345']\n",
      "Identifiers in fghjgyfh: ['fghjgyfh']\n",
      "Identifiers in -87652345: []\n"
     ]
    }
   ],
   "source": [
    "def find_identifiers(string):\n",
    "    return re.findall(r'[a-zA-Z_]\\w*', string)\n",
    "\n",
    "string1 = '098765ghf2345'\n",
    "string2 = 'fghjgyfh'\n",
    "string3 = '-87652345'\n",
    "print(f'Identifiers in {string1}: {find_identifiers(string1)}')\n",
    "print(f'Identifiers in {string2}: {find_identifiers(string2)}')\n",
    "print(f'Identifiers in {string3}: {find_identifiers(string3)}')"
   ]
  },
  {
   "cell_type": "markdown",
   "id": "7c3501f2",
   "metadata": {},
   "source": [
    "### <font color='green'>1.7  Example: Image Filenames </font><font color='red'>^\\\\w+\\\\.(gif|png|jpg|jpeg)\\$</font>\n",
    "---\n",
    "1. The position anchors ^ and \\$ match the beginning and the ending of the input string, respectively. That is, this regex shall match the entire input string, instead of a part of the input string (substring).\n",
    "2. \\\\w+ matches one or more word characters (same as [a-zA-Z0-9_]+).\n",
    "3. \\\\. matches the dot (.) character. We need to use \\\\. to represent . as . has special meaning in regex. The \\\\ is known as the escape code, which restore the original literal meaning of the following character. Similarly, *, +, ? (occurrence indicators), ^, \\$ (position anchors) have special meaning in regex. You need to use an escape code to match with these characters.\n",
    "4. (gif|png|jpg|jpeg) matches either \"gif\", \"png\", \"jpg\" or \"jpeg\". The | denotes \"OR\" operator. The parentheses are used for grouping the selections.\n",
    "5. The modifier i after the regex specifies case-insensitive matching (applicable to some languages like Perl and JavaScript only). That is, it accepts \"test.GIF\" and \"TesT.Gif\"."
   ]
  },
  {
   "cell_type": "code",
   "execution_count": 8,
   "id": "d6674ba3",
   "metadata": {},
   "outputs": [
    {
     "name": "stdout",
     "output_type": "stream",
     "text": [
      "Image name in txt.jpg: ['jpg']\n",
      "Image name in a@4.png: []\n",
      "Image name in 123.jpeg: ['jpeg']\n"
     ]
    }
   ],
   "source": [
    "def find_imagename(string):\n",
    "    return re.findall(r'^\\w+\\.(gif|png|jpg|jpeg)$', string)\n",
    "\n",
    "string1 = 'txt.jpg'\n",
    "string2 = 'a@4.png'\n",
    "string3 = '123.jpeg'\n",
    "print(f'Image name in {string1}: {find_imagename(string1)}')\n",
    "print(f'Image name in {string2}: {find_imagename(string2)}')\n",
    "print(f'Image name in {string3}: {find_imagename(string3)}')"
   ]
  },
  {
   "cell_type": "markdown",
   "id": "9557625e",
   "metadata": {},
   "source": [
    "### <font color='green'>1.8  Example: Email Addresses</font> <font color='red'>^\\\\w+([.-]?\\\\w+)\\*@\\\\w+([.-]?\\\\w+)\\*(\\\\.\\\\w{2,3})+\\$</font>\n",
    "---\n",
    "1. The position anchors ^ and \\$ match the beginning and the ending of the input string, respectively. That is, this regex shall match the entire input string, instead of a part of the input string (substring).\n",
    "2. \\\\w+ matches 1 or more word characters (same as [a-zA-Z0-9_]+).\n",
    "3. [.-]? matches an optional character . or -. Although dot (.) has special meaning in regex, in a character class (square brackets) any characters except ^, -, ] or \\\\ is a literal, and do not require escape sequence.\n",
    "4. ([.-]?\\\\w+)* matches 0 or more occurrences of [.-]?\\\\w+.\n",
    "5. The sub-expression \\\\w+([.-]?\\\\w+)\\* is used to match the username in the email, before the @ sign. It begins with at least one word character [a-zA-Z0-9_], followed by more word characters or . or -. However, a . or - must follow by a word character [a-zA-Z0-9_]. That is, the input string cannot begin with . or -; and cannot contain \"..\", \"--\", \".-\" or \"-.\". Example of valid string are \"a.1-2-3\".\n",
    "6. The @ matches itself. In regex, all characters other than those having special meanings matches itself, e.g., a matches a, b matches b, and etc.\n",
    "7. Again, the sub-expression \\\\w+([.-]?\\\\w+)\\* is used to match the email domain name, with the same pattern as the username described above.\n",
    "8. The sub-expression \\\\.\\\\w{2,3} matches a . followed by two or three word characters, e.g., \".com\", \".edu\", \".us\", \".uk\", \".co\".\n",
    "9. (\\\\.\\\\w{2,3})+ specifies that the above sub-expression could occur one or more times, e.g., \".com\", \".co.uk\", \".edu.sg\" etc."
   ]
  },
  {
   "cell_type": "code",
   "execution_count": 9,
   "id": "2f157dad",
   "metadata": {},
   "outputs": [
    {
     "name": "stdout",
     "output_type": "stream",
     "text": [
      "Email id in pradip@gmail.com: <re.Match object; span=(0, 16), match='pradip@gmail.com'>\n",
      "Email id in das@yahoo.in: <re.Match object; span=(0, 12), match='das@yahoo.in'>\n",
      "Email id in gjhk@dhdjh.search: None\n"
     ]
    }
   ],
   "source": [
    "def search_email(string):\n",
    "    return re.search(r'^\\w+([.-]?\\w+)*@\\w+([.-]?\\w+)*(\\.\\w{2,3})+$', string)\n",
    "\n",
    "string1 = 'pradip@gmail.com'\n",
    "string2 = 'das@yahoo.in'\n",
    "string3 = 'gjhk@dhdjh.search'\n",
    "print(f'Email id in {string1}: {search_email(string1)}')\n",
    "print(f'Email id in {string2}: {search_email(string2)}')\n",
    "print(f'Email id in {string3}: {search_email(string3)}')"
   ]
  },
  {
   "cell_type": "code",
   "execution_count": 10,
   "id": "5558465a",
   "metadata": {},
   "outputs": [
    {
     "name": "stdout",
     "output_type": "stream",
     "text": [
      "Email id in \"The emil id is: pradip@gmail.com\": <re.Match object; span=(16, 32), match='pradip@gmail.com'>\n",
      "Email id in \"my email: das@yahoo.in\": <re.Match object; span=(10, 22), match='das@yahoo.in'>\n",
      "Email id in \"gjhk@dhdjh.search\": <re.Match object; span=(0, 14), match='gjhk@dhdjh.sea'>\n"
     ]
    }
   ],
   "source": [
    "def search_email(string):\n",
    "    return re.search(r'\\w+([.-]?\\w+)*@\\w+([.-]?\\w+)*(\\.\\w{2,3})+', string)\n",
    "\n",
    "string1 = 'The emil id is: pradip@gmail.com'\n",
    "string2 = 'my email: das@yahoo.in'\n",
    "string3 = 'gjhk@dhdjh.search'\n",
    "print(f'Email id in \"{string1}\": {search_email(string1)}')\n",
    "print(f'Email id in \"{string2}\": {search_email(string2)}')\n",
    "print(f'Email id in \"{string3}\": {search_email(string3)}')"
   ]
  },
  {
   "cell_type": "markdown",
   "id": "e5c87bc4",
   "metadata": {},
   "source": [
    "### <font color='green'>1.9  Example: Swapping Words using Parenthesized Back-References</font> <font color='red'>^(\\S+)\\s+(\\S+)\\$</font> <font color='green'>and</font> <font color='red'>\\\\$2 \\\\$1</font>\n",
    "---\n",
    "1. The ^ and \\$ match the beginning and ending of the input string, respectively.\n",
    "2. The \\\\s (lowercase s) matches a whitespace (blank, tab \\\\t, and newline \\\\r or \\\\n). On the other hand, the \\\\S+ (uppercase S) matches anything that is NOT matched by \\\\s, i.e., non-whitespace. In regex, the uppercase meta-character denotes the inverse of the lowercase counterpart, for example, \\\\w for word character and \\\\W for non-word character; \\\\d for digit and \\\\D or non-digit.\n",
    "3. The above regex matches two words (without white spaces) separated by one or more whitespaces.\n",
    "4. Parentheses () have two meanings in regex:\n",
    "    1. to group sub-expressions, e.g., (abc)\\*\n",
    "    2. to provide a so-called back-reference for capturing and extracting matches.\n",
    "5. The parentheses in (\\\\S+), called parenthesized back-reference, is used to extract the matched substring from the input string. In this regex, there are two (\\\\S+), match the first two words, separated by one or more whitespaces \\\\s+. The two matched words are extracted from the input string and typically kept in special variables \\$1 and \\\\$2 (or \\\\1 and \\\\2 in Python), respectively.\n",
    "6. To swap the two words, you can access the special variables, and print \"\\$2 \\\\$1\" (via a programming language)"
   ]
  },
  {
   "cell_type": "code",
   "execution_count": 11,
   "id": "28378ff3",
   "metadata": {},
   "outputs": [
    {
     "name": "stdout",
     "output_type": "stream",
     "text": [
      "Find pattern  \"apple orange\": [('apple', 'orange')]\n",
      "Find pattern  \"apple orange\": []\n"
     ]
    }
   ],
   "source": [
    "def find_all(string):\n",
    "    '''A list of tuples if the pattern has more than one back references\n",
    "       Back references are kept in \\1, \\2, \\3, etc.'''\n",
    "    return re.findall(r'^(\\S+)\\s+(\\S+)$', string)\n",
    "\n",
    "string1 = 'apple orange'\n",
    "string2 = 'apple orange mango'\n",
    "print(f'Find pattern  \"{string1}\": {find_all(string1)}')\n",
    "print(f'Find pattern  \"{string1}\": {find_all(string2)}')"
   ]
  },
  {
   "cell_type": "code",
   "execution_count": 12,
   "id": "b5f00813",
   "metadata": {},
   "outputs": [
    {
     "name": "stdout",
     "output_type": "stream",
     "text": [
      "Find pattern  \"apple orange\": [('apple', 'orange')]\n",
      "Find pattern  \"apple orange\": [('apple', 'orange')]\n"
     ]
    }
   ],
   "source": [
    "def find_all(string):\n",
    "    '''A list of tuples if the pattern has more than one back references\n",
    "       Back references are kept in \\1, \\2, \\3, etc.'''\n",
    "    return re.findall(r'^(\\S+)\\s+(\\S+)', string)\n",
    "\n",
    "string1 = 'apple orange'\n",
    "string2 = 'apple orange mango'\n",
    "print(f'Find pattern  \"{string1}\": {find_all(string1)}')\n",
    "print(f'Find pattern  \"{string1}\": {find_all(string2)}')"
   ]
  },
  {
   "cell_type": "markdown",
   "id": "56a44820",
   "metadata": {},
   "source": [
    "### <font color='green'>1.10  Example: HTTP Addresses</font> <font color='red'>^https:\\\\/\\\\/\\\\S+(\\\\/\\\\S+)\\*(\\\\/)?\\$</font>\n",
    "---\n",
    "1. Begin with https://. Take note that you may need to write / as \\\\/ with an escape code in some languages (JavaScript, Perl).\n",
    "2. Followed by \\\\S+, one or more non-whitespaces, for the domain name.\n",
    "3. Followed by (\\\\/\\\\S+)\\*, zero or more \"/...\", for the sub-directories.\n",
    "4. Followed by (\\\\/)?, an optional (0 or 1) trailing /, for directory request."
   ]
  },
  {
   "cell_type": "code",
   "execution_count": 13,
   "id": "eb19f3d5",
   "metadata": {},
   "outputs": [
    {
     "name": "stdout",
     "output_type": "stream",
     "text": [
      "web link in \"https://en.1337x-official.to/movie/sam-bahadur-2023/\": <re.Match object; span=(0, 52), match='https://en.1337x-official.to/movie/sam-bahadur-20>\n",
      "web link in \"https://pingala.iitk.ac.in/IITK-0/login\": <re.Match object; span=(0, 39), match='https://pingala.iitk.ac.in/IITK-0/login'>\n",
      "web link in \"23456dfghjh\": None\n"
     ]
    }
   ],
   "source": [
    "def search_web(string):\n",
    "    return re.search(r'^https:\\/\\/\\S+(\\/\\S+)*(\\/)?$', string)\n",
    "\n",
    "string1 = 'https://en.1337x-official.to/movie/sam-bahadur-2023/'\n",
    "string2 = 'https://pingala.iitk.ac.in/IITK-0/login'\n",
    "string3 = '23456dfghjh'\n",
    "print(f'web link in \"{string1}\": {search_web(string1)}')\n",
    "print(f'web link in \"{string2}\": {search_web(string2)}')\n",
    "print(f'web link in \"{string3}\": {search_web(string3)}')"
   ]
  },
  {
   "cell_type": "markdown",
   "id": "8b8871ea",
   "metadata": {},
   "source": [
    "## <font color='green'>2.  Regular Expression (Regex) Syntax</font>\n",
    "---\n",
    "A Regular Expression (or Regex) is a pattern (or filter) that describes a set of strings that matches the pattern. In other words, a regex accepts a certain set of strings and rejects the rest.\n",
    "\n",
    "A regex consists of a sequence of characters, metacharacters (such as ., \\\\d, \\\\D, \\\\s, \\\\S, \\\\w, \\\\W) and operators (such as +, \\*, ?, |, ^). They are constructed by combining many smaller sub-expressions.\n",
    "\n",
    "### <font color='green'>2.1  Matching a Single Character</font>\n",
    "---\n",
    "The fundamental building blocks of a regex are patterns that match a single character. Most characters, including all letters (a-z and A-Z) and digits (0-9), match itself. For example, the regex x matches substring \"x\"; z matches \"z\"; and 9 matches \"9\".\n",
    "\n",
    "Non-alphanumeric characters without special meaning in regex also matches itself. For example, = matches \"=\"; @ matches \"@\".\n",
    "\n",
    "### <font color='green'>2.2  Regex Special Characters and Escape Sequences</font>\n",
    "---\n",
    "**Regex's Special Characters**\n",
    "These characters have special meaning in regex (I will discuss in detail in the later sections):\n",
    "\n",
    "1. metacharacter: dot (.)\n",
    "2. bracket list: [ ]\n",
    "3. position anchors: ^, $\n",
    "4. occurrence indicators: +, *, ?, { }\n",
    "5. parentheses: ( )\n",
    "6. or: |\n",
    "7. escape and metacharacter: backslash (\\\\)\n",
    "**Escape Sequences**\n",
    "\n",
    "The characters listed above have special meanings in regex. To match these characters, we need to prepend it with a backslash (\\\\), known as escape sequence.  For examples, \\\\+ matches \"+\"; \\\\[ matches \"[\"; and \\\\. matches \".\".\n",
    "\n",
    "Regex also recognizes common escape sequences such as \\\\n for newline, \\\\t for tab, \\\\r for carriage-return, \\\\nnn for a up to 3-digit octal number, \\\\xhh for a two-digit hex code, \\\\uhhhh for a 4-digit Unicode, \\\\uhhhhhhhh for a 8-digit Unicode."
   ]
  },
  {
   "cell_type": "code",
   "execution_count": 14,
   "id": "408a8d2d",
   "metadata": {},
   "outputs": [
    {
     "name": "stdout",
     "output_type": "stream",
     "text": [
      "['a', 'a']\n",
      "['=']\n",
      "['.']\n",
      "['.']\n"
     ]
    }
   ],
   "source": [
    "# Try find: re.findall(regexStr, inStr) -> matchedStrList\n",
    "# r'...' denotes raw strings which ignore escape code, i.e., r'\\n' is '\\'+'n'\n",
    "print(re.findall(r'a', 'abcabc'))\n",
    "print(re.findall(r'=', 'abc=abc'))   # '=' is not a special regex character\n",
    "print(re.findall(r'\\.', 'abc.com'))  # '.' is a special regex character, need regex escape sequence\n",
    "print(re.findall('\\\\.', 'abc.com'))  # You need to write \\\\ for \\ in regular Python string"
   ]
  },
  {
   "cell_type": "markdown",
   "id": "26aeb8ae",
   "metadata": {},
   "source": [
    "### <font color='green'>2.3  Matching a Sequence of Characters (String or Text)</font>\n",
    "---\n",
    "**Sub-Expressions**\n",
    "A regex is constructed by combining many smaller sub-expressions or atoms. For example, the regex Friday matches the string \"Friday\". The matching, by default, is case-sensitive, but can be set to case-insensitive via modifier.\n",
    "\n",
    "### <font color='green'>2.4  OR (|) Operator</font>\n",
    "---\n",
    "You can provide alternatives using the \"OR\" operator, denoted by a vertical bar '|'. For example, the regex four|for|floor|4 accepts strings \"four\", \"for\", \"floor\" or \"4\".\n",
    "\n",
    "### <font color='green'>2.5  Bracket List (Character Class) [...], [^...], [.-.]</font>\n",
    "---\n",
    "A bracket expression is a list of characters enclosed by [ ], also called character class. It matches ANY ONE character in the list. However, if the first character of the list is the caret (^), then it matches ANY ONE character NOT in the list. For example, the regex [02468] matches a single digit 0, 2, 4, 6, or 8; the regex [^02468] matches any single character other than 0, 2, 4, 6, or 8.\n",
    "\n",
    "Instead of listing all characters, you could use a range expression inside the bracket. A range expression consists of two characters separated by a hyphen (-). It matches any single character that sorts between the two characters, inclusive. For example, [a-d] is the same as [abcd]. You could include a caret (^) in front of the range to invert the matching. For example, [^a-d] is equivalent to [^abcd].\n",
    "\n",
    "Most of the special regex characters lose their meaning inside bracket list, and can be used as they are; except ^, -, ] or \\\\.\n",
    "\n",
    "1. To include a ], place it first in the list, or use escape \\\\\\\\].\n",
    "2. To include a ^, place it anywhere but first, or use escape \\\\^.\n",
    "3. To include a - place it last, or use escape \\\\-.\n",
    "4. To include a \\\\, use escape \\\\\\\\.\n",
    "5. No escape needed for the other characters such as ., +, *, ?, (, ), {, }, and etc, inside the bracket list\n",
    "6. You can also include metacharacters (to be explained in the next section), such as \\\\w, \\\\W, \\\\d, \\\\D, \\\\s, \\\\S inside the bracket list.\n",
    "\n",
    "### <font color='green'>2.6  Metacharacters ., \\\\w, \\\\W, \\\\d, \\\\D, \\\\s, \\\\S</font>\n",
    "---\n",
    "A metacharacter is a symbol with a special meaning inside a regex.\n",
    "\n",
    "1. The metacharacter dot (.) matches any single character except newline \\\\n (same as [^\\\\n]). For example, ... matches any 3 characters (including alphabets, numbers, whitespaces, but except newline); the.. matches \"there\", \"these\", \"the  \", and so on.\n",
    "2. \\\\w (word character) matches any single letter, number or underscore (same as [a-zA-Z0-9_]). The uppercase counterpart \\\\W (non-word-character) matches any single character that doesn't match by \\\\w (same as [^a-zA-Z0-9_]).\n",
    "3. In regex, the uppercase metacharacter is always the inverse of the lowercase counterpart.\n",
    "4. \\\\d (digit) matches any single digit (same as [0-9]). The uppercase counterpart \\D (non-digit) matches any single character that is not a digit (same as [^0-9]).\n",
    "5. \\\\s (space) matches any single whitespace (same as [ \\\\t\\\\n\\\\r\\\\f], blank, tab, newline, carriage-return and form-feed). The uppercase counterpart \\\\S (non-space) matches any single character that doesn't match by \\s (same as [^ \\\\t\\\\n\\\\r\\\\f]).\n",
    "\n",
    "Examples:\n",
    "\n",
    "`\\s\\s      # Matches two spaces\n",
    " \\S\\S\\s    # Two non-spaces followed by a space\n",
    " \\s+       # One or more spaces\n",
    " \\S+\\s\\S+  # Two words (non-spaces) separated by a space`\n",
    " \n",
    "### <font color='green'>2.7  Backslash (\\\\) and Regex Escape Sequences</font>\n",
    "---\n",
    "Regex uses backslash (\\\\) for two purposes:\n",
    "1. for metacharacters such as \\d (digit), \\\\D (non-digit), \\\\s (space), \\\\S (non-space), \\\\w (word), \\\\W (non-word).\n",
    "2. to escape special regex characters, e.g., \\\\. for ., \\\\+ for +, \\\\\\* for \\*, \\\\? for ?. You also need to write \\\\\\\\ for \\\\ in regex to avoid ambiguity.\n",
    "3. Regex also recognizes \\\\n for newline, \\\\t for tab, etc.\n",
    "<br>\n",
    "Take note that in many programming languages (C, Java, Python), backslash (\\\\) is also used for escape sequences in string, e.g., \"\\\\n\" for newline, \"\\\\t\" for tab, and you also need to write \"\\\\\\\\\" for \\\\. Consequently, to write regex pattern \\\\\\\\ (which matches one \\\\) in these languages, you need to write \"\\\\\\\\\\\\\\\\\" (two levels of escape!!!). Similarly, you need to write \"\\\\\\\\d\" for regex metacharacter \\\\d. This is cumbersome and error-prone!!!\n",
    "\n",
    "### <font color='green'>2.8  Occurrence Indicators (Repetition Operators): +, \\*, ?, {m}, {m,n}, {m,}</font>\n",
    "---\n",
    "A regex sub-expression may be followed by an occurrence indicator (aka repetition operator):\n",
    "1. ?: The preceding item is optional and matched at most once (i.e., occurs 0 or 1 times or optional).\n",
    "2. \\*: The preceding item will be matched zero or more times, i.e., 0+\n",
    "3. +: The preceding item will be matched one or more times, i.e., 1+\n",
    "4. {m}: The preceding item is matched exactly m times.\n",
    "5. {m,}: The preceding item is matched m or more times, i.e., m+\n",
    "6. {m,n}: The preceding item is matched at least m times, but not more than n times.\n",
    "<br>\n",
    "For example: The regex xy{2,4} accepts \"xyy\", \"xyyy\" and \"xyyyy\".\n",
    "\n",
    "### <font color='green'>2.9  Modifiers</font>\n",
    "---\n",
    "You can apply modifiers to a regex to tailor its behavior, such as global, case-insensitive, multiline, etc. Regular expression literals may include an optional modifier to control various aspects of matching. The modifiers are specified as an optional flag. You can provide multiple modifiers using exclusive OR (|), as shown previously and may be represented by one of these \n",
    "\n",
    "|Sr.No.\t|Modifier | Description|\n",
    "|:-:|:-:|:-|\n",
    "|1\t|re.r| Performs case-insensitive matching.|\n",
    "|2\t|re.L |Interprets words according to the current locale. This interpretation affects the alphabetic group (\\\\w and \\\\W), as well as word boundary behavior(\\b and \\B).|\n",
    "|3\t|re.M |Makes \\$ match the end of a line (not just the end of the string) and makes ^ match the start of any line (not just the start of the string).|\n",
    "|4\t|re.S | Makes a period (dot) match any character, including a newline.|\n",
    "|5\t|re.U |Interprets letters according to the Unicode character set. This flag affects the behavior of \\\\w, \\\\W, \\\\b, \\\\B.|\n",
    "|6\t|re.X |Permits \"cuter\" regular expression syntax. It ignores whitespace (except inside a set [] or when escaped by a backslash) and treats unescaped # as a comment marker.|\n",
    "\n",
    "### <font color='green'>2.10  Greediness, Laziness and Backtracking for Repetition Operators</font>\n",
    "---\n",
    "**Greediness of Repetition Operators \\*, +, ?, {m,n}:** The repetition operators are greedy operators, and by default grasp as many characters as possible for a match. For example, the regex xy{2,4} try to match for \"xyyyy\", then \"xyyy\", and then \"xyy\".\n",
    "\n",
    "**Lazy Quantifiers \\*?, +?, ??, {m,n}?, {m,}?:** You can put an extra ? after the repetition operators to curb its greediness (i.e., stop at the shortest match).\n",
    "\n",
    "**Backtracking:** If a regex reaches a state where a match cannot be completed, it backtracks by unwinding one character from the greedy match. For example, if the regex z*zzz is matched against the string \"zzzz\", the z* first matches \"zzzz\"; unwinds to match \"zzz\"; unwinds to match \"zz\"; and finally unwinds to match \"z\", such that the rest of the patterns can find a match.\n",
    "\n",
    "**Possessive Quantifiers \\*+, ++, ?+, {m,n}+, {m,}+:** You can put an extra + to the repetition operators to disable backtracking, even it may result in match failure. e.g, z++z will not match \"zzzz\". This feature might not be supported in some languages.\n",
    "\n",
    "### <font color='green'>2.11  Position Anchors ^, \\$, \\\\b, \\\\B, \\\\<, \\\\>, \\\\A, \\\\Z</font>\n",
    "--- \n",
    "Positional anchors DO NOT match actual character, but matches position in a string, such as start-of-line, end-of-line, start-of-word, and end-of-word.\n",
    "1. ^ and \\$: The ^ matches the start-of-line. The \\\\$ matches the end-of-line excluding newline, or end-of-input (for input not ending with newline). These are the most commonly-used position anchors. For examples,\n",
    "\n",
    "`ing$           # ending with 'ing'\n",
    "^testing 123$  # Matches only one pattern. Should use equality comparison instead.\n",
    "^[0-9]+$       # Numeric string`\n",
    "\n",
    "2. \\\\b and \\\\B: The \\\\b matches the boundary of a word (i.e., start-of-word or end-of-word); and \\\\B matches inverse of \\\\b, or non-word-boundary. For examples,\n",
    "\n",
    "`\\bcat\\b       # matches the word \"cat\" in input string \"This is a cat.\"\n",
    "               # but does not match input \"This is a catalog.\"`\n",
    "               \n",
    "3. \\\\< and \\\\>: The \\\\< and \\\\> match the start-of-word and end-of-word, respectively (compared with \\\\b, which can match both the start and end of a word).\n",
    "4. \\\\A and \\\\Z: The \\\\A matches the start of the input. The \\\\Z matches the end of the input.\n",
    "They are different from ^ and \\$ when it comes to matching input with multiple lines. ^ matches at the start of the string and after each line break, while \\\\A only matches at the start of the string. \\\\$ matches at the end of the string and before each line break, while \\\\Z only matches at the end of the string. For examples,\n"
   ]
  },
  {
   "cell_type": "code",
   "execution_count": 15,
   "id": "36a3740e",
   "metadata": {},
   "outputs": [
    {
     "name": "stdout",
     "output_type": "stream",
     "text": [
      "['testing', 'testing']\n",
      "['testing', 'testing']\n",
      "[]\n",
      "['testing\\ntesting']\n",
      "[]\n"
     ]
    }
   ],
   "source": [
    "# Using ^ and $ in multiline mode\n",
    "p1 = re.compile(r'^.+$', re.MULTILINE)  # . for any character except newline\n",
    "print(p1.findall('testing\\ntesting'))\n",
    "\n",
    "print(p1.findall('testing\\ntesting\\n'))\n",
    "   # ^ matches start-of-input or after each line break at start-of-line\n",
    "   # $ matches end-of-input or before line break at end-of-line\n",
    "   # newlines are NOT included in the matches\n",
    "\n",
    "# Using \\A and \\Z in multiline mode\n",
    "p2 = re.compile(r'\\A.+\\Z', re.MULTILINE)\n",
    "print(p2.findall('testing\\ntesting'))     # This pattern does not match the internal \\n\n",
    "\n",
    "p3 = re.compile(r'\\A.+\\n.+\\Z', re.MULTILINE)  # to match the internal \\n\n",
    "print(p3.findall('testing\\ntesting'))\n",
    "\n",
    "print(p3.findall('testing\\ntesting\\n'))    # This pattern does not match the trailing \\n\n",
    "   # \\A matches start-of-input and \\Z matches end-of-input"
   ]
  },
  {
   "cell_type": "markdown",
   "id": "03418c34",
   "metadata": {},
   "source": [
    "### <font color='green'>2.12  Capturing Matches via Parenthesized Back-References & Matched Variables \\$1, \\\\$2, ...</font>\n",
    "---\n",
    "Parentheses ( ) serve two purposes in regex:\n",
    "\n",
    "1. Firstly, parentheses ( ) can be used to group sub-expressions for overriding the precedence or applying a repetition operator. For example, (abc)+ (accepts abc, abcabc, abcabcabc, ...) is different from abc+ (accepts abc, abcc, abccc, ...).\n",
    "2. Secondly, parentheses are used to provide the so called *back-references (or capturing groups)*. A back-reference contains the matched substring. For examples, the regex (\\\\S+) creates one back-reference (\\\\S+), which contains the first word (consecutive non-spaces) of the input string; the regex (\\\\S+)\\\\s+(\\\\S+) creates two back-references: (\\\\S+) and another (\\\\S+), containing the first two words, separated by one or more spaces \\\\s+.\n",
    "\n",
    "These back-references (or capturing groups) are stored in special variables \\\\$1, \\\\$2, … (or \\\\1, \\\\2, ... in Python), where \\\\$1 contains the substring matched the first pair of parentheses, and so on. For example, (\\\\S+)\\\\s+(\\\\S+) creates two back-references which matched with the first two words. The matched words are stored in \\$1 and \\\\$2 (or \\\\1 and \\\\2), respectively.\n",
    "\n",
    "Back-references are important to manipulate the string. Back-references can be used in the substitution string as well as the pattern. For examples,"
   ]
  },
  {
   "cell_type": "code",
   "execution_count": 16,
   "id": "2677344e",
   "metadata": {},
   "outputs": [
    {
     "name": "stdout",
     "output_type": "stream",
     "text": [
      "orange apple\n",
      "apple\n"
     ]
    }
   ],
   "source": [
    "# Swap the first and second words separated by one space\n",
    "print(re.sub(r'(\\S+)\\s+(\\S+)', r'\\2 \\1', 'apple orange')) \n",
    "\n",
    "# Remove duplicate word\n",
    "print(re.sub(r'(\\S+)\\s+(\\S+)', r'\\1', 'apple apple')) "
   ]
  },
  {
   "cell_type": "markdown",
   "id": "f1f4b508",
   "metadata": {},
   "source": [
    "### Ref\n",
    "1. [Reg](https://www3.ntu.edu.sg/home/ehchua/programming/howto/Regexe.html)\n",
    "2. [tutorialspoint](https://www.tutorialspoint.com/articles/category/data-structure)\n",
    "\n",
    "[Top☝🏻](#1)"
   ]
  },
  {
   "cell_type": "code",
   "execution_count": null,
   "id": "8b6a6101",
   "metadata": {},
   "outputs": [],
   "source": []
  }
 ],
 "metadata": {
  "kernelspec": {
   "display_name": "Python 3 (ipykernel)",
   "language": "python",
   "name": "python3"
  },
  "language_info": {
   "codemirror_mode": {
    "name": "ipython",
    "version": 3
   },
   "file_extension": ".py",
   "mimetype": "text/x-python",
   "name": "python",
   "nbconvert_exporter": "python",
   "pygments_lexer": "ipython3",
   "version": "3.10.2"
  }
 },
 "nbformat": 4,
 "nbformat_minor": 5
}
